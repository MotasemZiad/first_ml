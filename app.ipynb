{
 "cells": [
  {
   "cell_type": "code",
   "execution_count": 12,
   "metadata": {},
   "outputs": [
    {
     "data": {
      "text/plain": [
       "0        HipHop\n",
       "1        HipHop\n",
       "2        HipHop\n",
       "3          Jazz\n",
       "4          Jazz\n",
       "5          Jazz\n",
       "6     Classical\n",
       "7     Classical\n",
       "8     Classical\n",
       "9         Dance\n",
       "10        Dance\n",
       "11        Dance\n",
       "12     Acoustic\n",
       "13     Acoustic\n",
       "14     Acoustic\n",
       "15    Classical\n",
       "16    Classical\n",
       "17    Classical\n",
       "Name: genre, dtype: object"
      ]
     },
     "execution_count": 12,
     "metadata": {},
     "output_type": "execute_result"
    }
   ],
   "source": [
    "import pandas as pd\n",
    "\n",
    "music_data = pd.read_csv('datasets/music.csv')\n",
    "\"\"\"\n",
    "We are going to split the dataset into two datasets: \n",
    "1. Input dataset (age, gender) called X by convention\n",
    "2. Output dataset (genre) called y by convention\n",
    "\"\"\"\n",
    "X = music_data.drop(columns=['genre'])\n",
    "y = music_data['genre']"
   ]
  },
  {
   "cell_type": "markdown",
   "metadata": {},
   "source": [
    "# Machine Learning Steps:\n",
    "1. Import the data\n",
    "2. Clean the data\n",
    "3. Split the data into (training, testing) sets\n",
    "4. Create a model\n",
    "5. Train the model\n",
    "6. Make predictions\n",
    "7. Evaluate and improve "
   ]
  },
  {
   "cell_type": "markdown",
   "metadata": {},
   "source": [
    "# CRISP DM process:\n",
    "CRISP DM - Cross Industry Standard Process for Data Mining   \n",
    "- Business understanding\n",
    "- Data understanding\n",
    "- Data preparation\n",
    "- Modeling\n",
    "- Evaluation\n",
    "- Deployment"
   ]
  },
  {
   "cell_type": "markdown",
   "metadata": {},
   "source": [
    "# Data Science Process:\n",
    "1. Prior knowledge\n",
    "2. Preparation\n",
    "3. Modeling \n",
    "4. Application\n",
    "5. Knowledge\n",
    "\n",
    "\n",
    "- Business understanding & Data understanding\n",
    "- Preparing the data\n",
    "- Training the data -> Building a model using a specific algorithm\n",
    "- Testing the data -> Applying the model and performance evaluation\n",
    "- Deployment\n",
    "- Knowledge and Actions"
   ]
  }
 ],
 "metadata": {
  "kernelspec": {
   "display_name": "Python 3.9.12 ('base')",
   "language": "python",
   "name": "python3"
  },
  "language_info": {
   "codemirror_mode": {
    "name": "ipython",
    "version": 3
   },
   "file_extension": ".py",
   "mimetype": "text/x-python",
   "name": "python",
   "nbconvert_exporter": "python",
   "pygments_lexer": "ipython3",
   "version": "3.9.12"
  },
  "orig_nbformat": 4,
  "vscode": {
   "interpreter": {
    "hash": "0cc9ba26fb2711f5d66dd2123394924d9bee4c02f78d7f670bc9691f5910b285"
   }
  }
 },
 "nbformat": 4,
 "nbformat_minor": 2
}
