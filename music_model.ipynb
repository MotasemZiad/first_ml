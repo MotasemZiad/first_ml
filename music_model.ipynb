{
 "cells": [
  {
   "cell_type": "code",
   "execution_count": 1,
   "metadata": {},
   "outputs": [
    {
     "name": "stdout",
     "output_type": "stream",
     "text": [
      "1: Hello World!\n",
      "2: Hello World!\n",
      "3: Hello World!\n",
      "4: Hello World!\n",
      "5: Hello World!\n",
      "6: Hello World!\n",
      "7: Hello World!\n",
      "8: Hello World!\n",
      "9: Hello World!\n",
      "10: Hello World!\n",
      "11: Hello World!\n",
      "12: Hello World!\n",
      "13: Hello World!\n",
      "14: Hello World!\n",
      "15: Hello World!\n",
      "16: Hello World!\n",
      "17: Hello World!\n",
      "18: Hello World!\n",
      "19: Hello World!\n",
      "20: Hello World!\n"
     ]
    }
   ],
   "source": [
    "for i in range(0, 20):\n",
    "    print(f\"{i + 1}: Hello World!\")"
   ]
  },
  {
   "cell_type": "code",
   "execution_count": null,
   "metadata": {},
   "outputs": [],
   "source": []
  }
 ],
 "metadata": {
  "kernelspec": {
   "display_name": "Python 3.9.12 ('base')",
   "language": "python",
   "name": "python3"
  },
  "language_info": {
   "codemirror_mode": {
    "name": "ipython",
    "version": 3
   },
   "file_extension": ".py",
   "mimetype": "text/x-python",
   "name": "python",
   "nbconvert_exporter": "python",
   "pygments_lexer": "ipython3",
   "version": "3.9.12"
  },
  "orig_nbformat": 4,
  "vscode": {
   "interpreter": {
    "hash": "0cc9ba26fb2711f5d66dd2123394924d9bee4c02f78d7f670bc9691f5910b285"
   }
  }
 },
 "nbformat": 4,
 "nbformat_minor": 2
}
